{
 "cells": [
  {
   "cell_type": "code",
   "execution_count": 2,
   "metadata": {
    "collapsed": true
   },
   "outputs": [],
   "source": [
    "import pandas as pd\n",
    "import numpy as np"
   ]
  },
  {
   "cell_type": "markdown",
   "metadata": {},
   "source": [
    "###### Generate two $3*4$ DataFrames, one $6*2$ and one Series with random numbers and one dataframe from a dictionary\n"
   ]
  },
  {
   "cell_type": "code",
   "execution_count": 43,
   "metadata": {
    "scrolled": false
   },
   "outputs": [
    {
     "name": "stdout",
     "output_type": "stream",
     "text": [
      "           a         b         c         d\n",
      "x0  2.177689  8.922081  9.728325  9.648362\n",
      "x1  5.323405  7.114532  1.889546  2.467828\n",
      "x2  7.276507  1.438472  1.263988  2.061257\n",
      "           a         b         c         d\n",
      "x3  7.541036  0.292010  3.169559  8.436208\n",
      "x4  9.556189  3.995653  6.828841  7.131121\n",
      "x5  0.627475  3.546008  6.905168  4.783671\n",
      "           e         f\n",
      "y0  3.322687  3.338198\n",
      "y1  1.154503  7.671023\n",
      "y2  4.282581  4.056443\n",
      "y3  5.284550  4.555519\n",
      "y4  5.852457  4.157614\n",
      "y5  8.040522  4.462905\n",
      "         Age  GPA  books\n",
      "Ali       33  3.9    120\n",
      "Mostafa   32  4.0    100\n",
      "Vahid     34  3.8     90\n",
      "s0    8.704596\n",
      "s1    3.234583\n",
      "s2    7.709528\n",
      "s3    4.707848\n",
      "s4    1.428455\n",
      "s5    3.036839\n",
      "dtype: float64\n",
      "Index(['a', 'b', 'c', 'd'], dtype='object')\n",
      "Index(['x0', 'x1', 'x2'], dtype='object')\n"
     ]
    }
   ],
   "source": [
    "df_1 = pd.DataFrame( np.random.uniform( 0 , 10 , [3 , 4] ),\n",
    "                    columns=['a','b','c','d'],\n",
    "                    index=['x0','x1','x2'])\n",
    "\n",
    "\n",
    "df_2 = pd.DataFrame( np.random.uniform( 0 , 10 , [3 , 4] )\n",
    "                    )\n",
    "df_2.index=['x3','x4','x5']\n",
    "df_2.columns=['a','b','c','d']\n",
    "\n",
    "\n",
    "df_3 = pd.DataFrame( np.random.uniform( 0 , 10 , [6 , 2] ),\n",
    "                    columns=['e','f'],\n",
    "                    index=['y%s'%i for i in range(6)])\n",
    "\n",
    "df_4 = pd.DataFrame.from_dict( {\n",
    "    \"Mostafa\":{\"Age\":32,\"GPA\":4, \"books\":100},\n",
    "    \"Ali\":{\"Age\":33,\"GPA\":3.9, \"books\":120},\n",
    "    \"Vahid\":{\"Age\":34,\"GPA\":3.8, \"books\":90},\n",
    "} , orient='index' )\n",
    "\n",
    "\n",
    "se_1 = pd.Series( np.random.uniform( 0 , 10 , [6 , ] ) \n",
    "                 , index=['s%s'%i for i in range(6)] )\n",
    "\n",
    "\n",
    "print(df_1)\n",
    "print(df_2)\n",
    "print(df_3)\n",
    "print(df_4)\n",
    "print(se_1)\n",
    "print(df_1.columns)\n",
    "print(df_1.index)"
   ]
  },
  {
   "cell_type": "markdown",
   "metadata": {},
   "source": [
    "#### data indexing "
   ]
  },
  {
   "cell_type": "code",
   "execution_count": 47,
   "metadata": {},
   "outputs": [
    {
     "name": "stdout",
     "output_type": "stream",
     "text": [
      "Age       32.0\n",
      "GPA        4.0\n",
      "books    100.0\n",
      "Name: Mostafa, dtype: float64\n"
     ]
    }
   ],
   "source": [
    "print(df_4.loc['Mostafa'])"
   ]
  },
  {
   "cell_type": "code",
   "execution_count": 49,
   "metadata": {},
   "outputs": [
    {
     "name": "stdout",
     "output_type": "stream",
     "text": [
      "Age       32.0\n",
      "GPA        4.0\n",
      "books    100.0\n",
      "Name: Mostafa, dtype: float64\n"
     ]
    }
   ],
   "source": [
    "print(df_4.iloc[1])"
   ]
  },
  {
   "cell_type": "code",
   "execution_count": 51,
   "metadata": {},
   "outputs": [
    {
     "name": "stdout",
     "output_type": "stream",
     "text": [
      "Ali        3.9\n",
      "Mostafa    4.0\n",
      "Vahid      3.8\n",
      "Name: GPA, dtype: float64\n"
     ]
    }
   ],
   "source": [
    "print(df_4['GPA'])"
   ]
  },
  {
   "cell_type": "code",
   "execution_count": 52,
   "metadata": {},
   "outputs": [
    {
     "name": "stdout",
     "output_type": "stream",
     "text": [
      "3.9\n"
     ]
    }
   ],
   "source": [
    "print( df_4['GPA']['Ali'] )"
   ]
  },
  {
   "cell_type": "markdown",
   "metadata": {},
   "source": [
    "#### reindexing and filling"
   ]
  },
  {
   "cell_type": "code",
   "execution_count": 54,
   "metadata": {},
   "outputs": [
    {
     "data": {
      "text/plain": [
       "0      blue\n",
       "2    purple\n",
       "4    yellow\n",
       "dtype: object"
      ]
     },
     "execution_count": 54,
     "metadata": {},
     "output_type": "execute_result"
    }
   ],
   "source": [
    "se_2 = pd.Series(['blue', 'purple', 'yellow'], index=[0, 2, 4])\n",
    "se_2"
   ]
  },
  {
   "cell_type": "code",
   "execution_count": 56,
   "metadata": {},
   "outputs": [
    {
     "data": {
      "text/plain": [
       "0      blue\n",
       "1       NaN\n",
       "2    purple\n",
       "3       NaN\n",
       "4    yellow\n",
       "5       NaN\n",
       "dtype: object"
      ]
     },
     "execution_count": 56,
     "metadata": {},
     "output_type": "execute_result"
    }
   ],
   "source": [
    "se_2.reindex(range(6))"
   ]
  },
  {
   "cell_type": "code",
   "execution_count": 58,
   "metadata": {},
   "outputs": [
    {
     "data": {
      "text/plain": [
       "0      blue\n",
       "1       red\n",
       "2    purple\n",
       "3       red\n",
       "4    yellow\n",
       "5       red\n",
       "dtype: object"
      ]
     },
     "execution_count": 58,
     "metadata": {},
     "output_type": "execute_result"
    }
   ],
   "source": [
    "se_2.reindex(range(6), fill_value='red')"
   ]
  },
  {
   "cell_type": "code",
   "execution_count": 60,
   "metadata": {},
   "outputs": [
    {
     "data": {
      "text/plain": [
       "0      blue\n",
       "1      blue\n",
       "2    purple\n",
       "3    purple\n",
       "4    yellow\n",
       "5    yellow\n",
       "dtype: object"
      ]
     },
     "execution_count": 60,
     "metadata": {},
     "output_type": "execute_result"
    }
   ],
   "source": [
    "se_2.reindex(range(6), method='ffill')"
   ]
  },
  {
   "cell_type": "code",
   "execution_count": 66,
   "metadata": {},
   "outputs": [
    {
     "data": {
      "text/plain": [
       "0      blue\n",
       "3    purple\n",
       "4    yellow\n",
       "dtype: object"
      ]
     },
     "execution_count": 66,
     "metadata": {},
     "output_type": "execute_result"
    }
   ],
   "source": [
    "se_3 = pd.Series(['blue', 'purple', 'yellow'], index=[0, 3, 4])\n",
    "se_3"
   ]
  },
  {
   "cell_type": "code",
   "execution_count": 68,
   "metadata": {},
   "outputs": [
    {
     "name": "stdout",
     "output_type": "stream",
     "text": [
      "0      blue\n",
      "1      blue\n",
      "2       NaN\n",
      "3    purple\n",
      "4    yellow\n",
      "5    yellow\n",
      "dtype: object\n"
     ]
    }
   ],
   "source": [
    "print( se_3.reindex(range(6), method='ffill', limit=1))\n"
   ]
  },
  {
   "cell_type": "code",
   "execution_count": null,
   "metadata": {
    "collapsed": true
   },
   "outputs": [],
   "source": []
  },
  {
   "cell_type": "code",
   "execution_count": 65,
   "metadata": {},
   "outputs": [
    {
     "name": "stdout",
     "output_type": "stream",
     "text": [
      "         Age  GPA  books\n",
      "Ali       33  3.9    120\n",
      "Mostafa   32  4.0    100\n",
      "Vahid     34  3.8     90\n",
      "          Age  GPA  books\n",
      "Ali      33.0  3.9  120.0\n",
      "Mostafa  32.0  4.0  100.0\n",
      "Hesam     NaN  NaN    NaN\n",
      "Vahid    34.0  3.8   90.0\n",
      "         GPA  Age  books\n",
      "Ali      3.9   33    120\n",
      "Mostafa  4.0   32    100\n",
      "Vahid    3.8   34     90\n",
      "         Age  GPA  books\n",
      "Mostafa   32  4.0    100\n",
      "Ali       33  3.9    120\n",
      "Vahid     34  3.8     90\n"
     ]
    }
   ],
   "source": [
    "print(df_4)\n",
    "print(df_4.reindex(['Ali','Mostafa','Hesam','Vahid']))\n",
    "print(df_4.reindex( columns= ['GPA','Age','books']))\n",
    "print(df_4.reindex(['Mostafa','Ali','Vahid']))"
   ]
  },
  {
   "cell_type": "code",
   "execution_count": null,
   "metadata": {
    "collapsed": true
   },
   "outputs": [],
   "source": []
  },
  {
   "cell_type": "code",
   "execution_count": null,
   "metadata": {
    "collapsed": true
   },
   "outputs": [],
   "source": []
  },
  {
   "cell_type": "code",
   "execution_count": null,
   "metadata": {
    "collapsed": true
   },
   "outputs": [],
   "source": []
  },
  {
   "cell_type": "code",
   "execution_count": null,
   "metadata": {
    "collapsed": true
   },
   "outputs": [],
   "source": []
  },
  {
   "cell_type": "code",
   "execution_count": 3,
   "metadata": {
    "collapsed": true
   },
   "outputs": [],
   "source": [
    "def myfunc(x,y):\n",
    "    return [x/y , x+1]"
   ]
  },
  {
   "cell_type": "code",
   "execution_count": 4,
   "metadata": {
    "collapsed": true
   },
   "outputs": [],
   "source": [
    "# you can write it simppler but just to show you how to do it\n",
    "df_1[[\"var1\", \"var2\"]]=df_1[[\"books\",\"Age\"]].apply(lambda x: myfunc(*x), axis=1)"
   ]
  },
  {
   "cell_type": "code",
   "execution_count": 5,
   "metadata": {},
   "outputs": [
    {
     "data": {
      "text/html": [
       "<div>\n",
       "<style scoped>\n",
       "    .dataframe tbody tr th:only-of-type {\n",
       "        vertical-align: middle;\n",
       "    }\n",
       "\n",
       "    .dataframe tbody tr th {\n",
       "        vertical-align: top;\n",
       "    }\n",
       "\n",
       "    .dataframe thead th {\n",
       "        text-align: right;\n",
       "    }\n",
       "</style>\n",
       "<table border=\"1\" class=\"dataframe\">\n",
       "  <thead>\n",
       "    <tr style=\"text-align: right;\">\n",
       "      <th></th>\n",
       "      <th>Age</th>\n",
       "      <th>GPA</th>\n",
       "      <th>books</th>\n",
       "      <th>var1</th>\n",
       "      <th>var2</th>\n",
       "    </tr>\n",
       "  </thead>\n",
       "  <tbody>\n",
       "    <tr>\n",
       "      <th>Ali</th>\n",
       "      <td>33</td>\n",
       "      <td>3.9</td>\n",
       "      <td>120</td>\n",
       "      <td>3.636364</td>\n",
       "      <td>121.0</td>\n",
       "    </tr>\n",
       "    <tr>\n",
       "      <th>Mostafa</th>\n",
       "      <td>32</td>\n",
       "      <td>4.0</td>\n",
       "      <td>100</td>\n",
       "      <td>3.125000</td>\n",
       "      <td>101.0</td>\n",
       "    </tr>\n",
       "    <tr>\n",
       "      <th>Vahid</th>\n",
       "      <td>34</td>\n",
       "      <td>3.8</td>\n",
       "      <td>90</td>\n",
       "      <td>2.647059</td>\n",
       "      <td>91.0</td>\n",
       "    </tr>\n",
       "  </tbody>\n",
       "</table>\n",
       "</div>"
      ],
      "text/plain": [
       "         Age  GPA  books      var1   var2\n",
       "Ali       33  3.9    120  3.636364  121.0\n",
       "Mostafa   32  4.0    100  3.125000  101.0\n",
       "Vahid     34  3.8     90  2.647059   91.0"
      ]
     },
     "execution_count": 5,
     "metadata": {},
     "output_type": "execute_result"
    }
   ],
   "source": [
    "df_1"
   ]
  },
  {
   "cell_type": "code",
   "execution_count": null,
   "metadata": {
    "collapsed": true
   },
   "outputs": [],
   "source": []
  }
 ],
 "metadata": {
  "kernelspec": {
   "display_name": "Python 3",
   "language": "python",
   "name": "python3"
  },
  "language_info": {
   "codemirror_mode": {
    "name": "ipython",
    "version": 3
   },
   "file_extension": ".py",
   "mimetype": "text/x-python",
   "name": "python",
   "nbconvert_exporter": "python",
   "pygments_lexer": "ipython3",
   "version": "3.6.3"
  }
 },
 "nbformat": 4,
 "nbformat_minor": 2
}
