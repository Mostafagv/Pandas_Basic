{
 "cells": [
  {
   "cell_type": "code",
   "execution_count": 1,
   "metadata": {},
   "outputs": [],
   "source": [
    "import pandas as pd\n",
    "import numpy as np"
   ]
  },
  {
   "cell_type": "markdown",
   "metadata": {},
   "source": [
    "###### Generate two $3*4$ DataFrames, one $6*2$ and one Series with random numbers and one dataframe from a dictionary\n"
   ]
  },
  {
   "cell_type": "code",
   "execution_count": 2,
   "metadata": {
    "scrolled": false
   },
   "outputs": [
    {
     "name": "stdout",
     "output_type": "stream",
     "text": [
      "           a         b         c         d\n",
      "x0  2.013590  6.757464  0.537072  6.724690\n",
      "x1  1.408858  7.810152  0.162720  7.134558\n",
      "x2  5.323144  1.794908  2.581617  8.326221\n",
      "           a         b         c         d\n",
      "x3  4.612637  2.218209  7.060667  5.629964\n",
      "x4  6.425883  8.063890  0.332589  4.959994\n",
      "x5  5.583034  9.501964  2.861137  7.760770\n",
      "           e         f\n",
      "y0  0.327440  1.331517\n",
      "y1  6.440302  3.495962\n",
      "y2  2.060589  0.341290\n",
      "y3  9.370563  4.007071\n",
      "y4  2.872266  3.621617\n",
      "y5  0.876414  7.119172\n",
      "         Age  GPA  books\n",
      "Ali       33  3.9    120\n",
      "Mostafa   32  4.0    100\n",
      "Vahid     34  3.8     90\n",
      "s0    9.276246\n",
      "s1    3.882459\n",
      "s2    0.972475\n",
      "s3    7.314831\n",
      "s4    7.221911\n",
      "s5    6.823548\n",
      "dtype: float64\n",
      "Index(['a', 'b', 'c', 'd'], dtype='object')\n",
      "Index(['x0', 'x1', 'x2'], dtype='object')\n"
     ]
    }
   ],
   "source": [
    "df_1 = pd.DataFrame( np.random.uniform( 0 , 10 , [3 , 4] ),\n",
    "                    columns=['a','b','c','d'],\n",
    "                    index=['x0','x1','x2'])\n",
    "\n",
    "\n",
    "df_2 = pd.DataFrame( np.random.uniform( 0 , 10 , [3 , 4] )\n",
    "                    )\n",
    "df_2.index=['x3','x4','x5']\n",
    "df_2.columns=['a','b','c','d']\n",
    "\n",
    "\n",
    "df_3 = pd.DataFrame( np.random.uniform( 0 , 10 , [6 , 2] ),\n",
    "                    columns=['e','f'],\n",
    "                    index=['y%s'%i for i in range(6)])\n",
    "\n",
    "df_4 = pd.DataFrame.from_dict( {\n",
    "    \"Mostafa\":{\"Age\":32,\"GPA\":4, \"books\":100},\n",
    "    \"Ali\":{\"Age\":33,\"GPA\":3.9, \"books\":120},\n",
    "    \"Vahid\":{\"Age\":34,\"GPA\":3.8, \"books\":90},\n",
    "} , orient='index' )\n",
    "\n",
    "\n",
    "se_1 = pd.Series( np.random.uniform( 0 , 10 , [6 , ] ) \n",
    "                 , index=['s%s'%i for i in range(6)] )\n",
    "\n",
    "\n",
    "print(df_1)\n",
    "print(df_2)\n",
    "print(df_3)\n",
    "print(df_4)\n",
    "print(se_1)\n",
    "print(df_1.columns)\n",
    "print(df_1.index)"
   ]
  },
  {
   "cell_type": "markdown",
   "metadata": {},
   "source": [
    "#### data indexing "
   ]
  },
  {
   "cell_type": "code",
   "execution_count": 3,
   "metadata": {},
   "outputs": [
    {
     "name": "stdout",
     "output_type": "stream",
     "text": [
      "Age       32.0\n",
      "GPA        4.0\n",
      "books    100.0\n",
      "Name: Mostafa, dtype: float64\n"
     ]
    }
   ],
   "source": [
    "print(df_4.loc['Mostafa'])"
   ]
  },
  {
   "cell_type": "code",
   "execution_count": 4,
   "metadata": {},
   "outputs": [
    {
     "name": "stdout",
     "output_type": "stream",
     "text": [
      "Age       32.0\n",
      "GPA        4.0\n",
      "books    100.0\n",
      "Name: Mostafa, dtype: float64\n"
     ]
    }
   ],
   "source": [
    "print(df_4.iloc[1])"
   ]
  },
  {
   "cell_type": "code",
   "execution_count": 5,
   "metadata": {},
   "outputs": [
    {
     "name": "stdout",
     "output_type": "stream",
     "text": [
      "Ali        3.9\n",
      "Mostafa    4.0\n",
      "Vahid      3.8\n",
      "Name: GPA, dtype: float64\n"
     ]
    }
   ],
   "source": [
    "print(df_4['GPA'])"
   ]
  },
  {
   "cell_type": "code",
   "execution_count": 6,
   "metadata": {},
   "outputs": [
    {
     "name": "stdout",
     "output_type": "stream",
     "text": [
      "3.9\n"
     ]
    }
   ],
   "source": [
    "print( df_4['GPA']['Ali'] )"
   ]
  },
  {
   "cell_type": "markdown",
   "metadata": {},
   "source": [
    "#### reindexing and filling"
   ]
  },
  {
   "cell_type": "code",
   "execution_count": 7,
   "metadata": {},
   "outputs": [
    {
     "data": {
      "text/plain": [
       "0      blue\n",
       "2    purple\n",
       "4    yellow\n",
       "dtype: object"
      ]
     },
     "execution_count": 7,
     "metadata": {},
     "output_type": "execute_result"
    }
   ],
   "source": [
    "se_2 = pd.Series(['blue', 'purple', 'yellow'], index=[0, 2, 4])\n",
    "se_2"
   ]
  },
  {
   "cell_type": "code",
   "execution_count": 8,
   "metadata": {},
   "outputs": [
    {
     "data": {
      "text/plain": [
       "0      blue\n",
       "1       NaN\n",
       "2    purple\n",
       "3       NaN\n",
       "4    yellow\n",
       "5       NaN\n",
       "dtype: object"
      ]
     },
     "execution_count": 8,
     "metadata": {},
     "output_type": "execute_result"
    }
   ],
   "source": [
    "se_2.reindex(range(6))"
   ]
  },
  {
   "cell_type": "code",
   "execution_count": 9,
   "metadata": {},
   "outputs": [
    {
     "data": {
      "text/plain": [
       "0      blue\n",
       "1       red\n",
       "2    purple\n",
       "3       red\n",
       "4    yellow\n",
       "5       red\n",
       "dtype: object"
      ]
     },
     "execution_count": 9,
     "metadata": {},
     "output_type": "execute_result"
    }
   ],
   "source": [
    "se_2.reindex(range(6), fill_value='red')"
   ]
  },
  {
   "cell_type": "code",
   "execution_count": 10,
   "metadata": {},
   "outputs": [
    {
     "data": {
      "text/plain": [
       "0      blue\n",
       "1      blue\n",
       "2    purple\n",
       "3    purple\n",
       "4    yellow\n",
       "5    yellow\n",
       "dtype: object"
      ]
     },
     "execution_count": 10,
     "metadata": {},
     "output_type": "execute_result"
    }
   ],
   "source": [
    "se_2.reindex(range(6), method='ffill')"
   ]
  },
  {
   "cell_type": "code",
   "execution_count": 11,
   "metadata": {},
   "outputs": [
    {
     "data": {
      "text/plain": [
       "0      blue\n",
       "3    purple\n",
       "4    yellow\n",
       "dtype: object"
      ]
     },
     "execution_count": 11,
     "metadata": {},
     "output_type": "execute_result"
    }
   ],
   "source": [
    "se_3 = pd.Series(['blue', 'purple', 'yellow'], index=[0, 3, 4])\n",
    "se_3"
   ]
  },
  {
   "cell_type": "code",
   "execution_count": 12,
   "metadata": {},
   "outputs": [
    {
     "name": "stdout",
     "output_type": "stream",
     "text": [
      "0      blue\n",
      "1      blue\n",
      "2       NaN\n",
      "3    purple\n",
      "4    yellow\n",
      "5    yellow\n",
      "dtype: object\n"
     ]
    }
   ],
   "source": [
    "print( se_3.reindex(range(6), method='ffill', limit=1))\n"
   ]
  },
  {
   "cell_type": "code",
   "execution_count": 13,
   "metadata": {},
   "outputs": [
    {
     "name": "stdout",
     "output_type": "stream",
     "text": [
      "         Age  GPA  books\n",
      "Ali       33  3.9    120\n",
      "Mostafa   32  4.0    100\n",
      "Vahid     34  3.8     90\n",
      "          Age  GPA  books\n",
      "Ali      33.0  3.9  120.0\n",
      "Mostafa  32.0  4.0  100.0\n",
      "Hesam     NaN  NaN    NaN\n",
      "Vahid    34.0  3.8   90.0\n",
      "         GPA  Age  books\n",
      "Ali      3.9   33    120\n",
      "Mostafa  4.0   32    100\n",
      "Vahid    3.8   34     90\n",
      "         Age  GPA  books\n",
      "Mostafa   32  4.0    100\n",
      "Ali       33  3.9    120\n",
      "Vahid     34  3.8     90\n"
     ]
    }
   ],
   "source": [
    "print(df_4)\n",
    "print(df_4.reindex(['Ali','Mostafa','Hesam','Vahid']))\n",
    "print(df_4.reindex( columns= ['GPA','Age','books']))\n",
    "print(df_4.reindex(['Mostafa','Ali','Vahid']))"
   ]
  },
  {
   "cell_type": "markdown",
   "metadata": {
    "collapsed": true
   },
   "source": [
    "#### Arithmetic"
   ]
  },
  {
   "cell_type": "code",
   "execution_count": 19,
   "metadata": {},
   "outputs": [],
   "source": [
    "df_5 = pd.DataFrame( np.random.uniform( 0 , 10 , [3 , 4] ),\n",
    "                    columns=['a','b','c','d'],\n",
    "                    index=['x0','x1','x2'])\n",
    "df_6 = pd.DataFrame( np.random.uniform( 0 , 10 , [3 , 5] ),\n",
    "                    columns=['a','b','c','d','e'],\n",
    "                    index=['x0','x1','x2'])"
   ]
  },
  {
   "cell_type": "code",
   "execution_count": 20,
   "metadata": {},
   "outputs": [
    {
     "name": "stdout",
     "output_type": "stream",
     "text": [
      "           a         b         c         d\n",
      "x0  1.640431  8.540041  3.737812  6.150799\n",
      "x1  7.332454  2.786515  5.568070  9.785020\n",
      "x2  5.533822  0.286955  1.017410  9.622851\n",
      "           a         b         c         d         e\n",
      "x0  2.557162  5.031338  9.814089  8.435638  3.491319\n",
      "x1  9.195587  2.834366  5.805208  6.638963  0.552551\n",
      "x2  9.220053  3.087629  3.326036  6.825141  5.603103\n",
      "            a          b          c          d   e\n",
      "x0   4.197593  13.571379  13.551900  14.586437 NaN\n",
      "x1  16.528041   5.620881  11.373277  16.423983 NaN\n",
      "x2  14.753874   3.374584   4.343446  16.447992 NaN\n",
      "            a          b          c          d         e\n",
      "x0   4.197593  13.571379  13.551900  14.586437  3.491319\n",
      "x1  16.528041   5.620881  11.373277  16.423983  0.552551\n",
      "x2  14.753874   3.374584   4.343446  16.447992  5.603103\n"
     ]
    }
   ],
   "source": [
    "print(df_5)\n",
    "print(df_6)\n",
    "print(df_5 + df_6)\n",
    "print(df_5.add(df_6, fill_value=0) )  #### try sub, div, mul"
   ]
  },
  {
   "cell_type": "markdown",
   "metadata": {},
   "source": [
    "#### Operations between DataFrame and Series"
   ]
  },
  {
   "cell_type": "code",
   "execution_count": 46,
   "metadata": {},
   "outputs": [
    {
     "name": "stdout",
     "output_type": "stream",
     "text": [
      "   a  b  c\n",
      "0  0  1  2\n",
      "1  3  4  5\n",
      "2  6  7  8\n",
      "a    1\n",
      "b    2\n",
      "c    3\n",
      "dtype: int64\n",
      "0    1\n",
      "1    2\n",
      "2    3\n",
      "dtype: int64\n",
      "   a  b  c\n",
      "0 -1  0  1\n",
      "1  1  2  3\n",
      "2  3  4  5\n",
      "   a  b  c\n",
      "0 -1 -1 -1\n",
      "1  2  2  2\n",
      "2  5  5  5\n"
     ]
    }
   ],
   "source": [
    "df_7 = pd.DataFrame( np.array(range(9)).reshape(3,3) ,\n",
    "                    columns=['a','b','c'])\n",
    "se_4 = pd.Series([1, 2, 3], index=['a','b','c'])\n",
    "se_5 = pd.Series([1, 2, 3], index=[0,1,2])\n",
    "\n",
    "print(df_7)\n",
    "print(se_4)\n",
    "print(se_5)\n",
    "\n",
    "print( df_7.sub( se_5 , axis=0) )\n",
    "print( df_7.sub( se_4 , axis=1) )"
   ]
  },
  {
   "cell_type": "markdown",
   "metadata": {},
   "source": [
    "#### Function application and mapping"
   ]
  },
  {
   "cell_type": "code",
   "execution_count": null,
   "metadata": {
    "collapsed": true
   },
   "outputs": [],
   "source": []
  },
  {
   "cell_type": "code",
   "execution_count": null,
   "metadata": {
    "collapsed": true
   },
   "outputs": [],
   "source": []
  },
  {
   "cell_type": "code",
   "execution_count": null,
   "metadata": {},
   "outputs": [],
   "source": []
  },
  {
   "cell_type": "code",
   "execution_count": null,
   "metadata": {},
   "outputs": [],
   "source": []
  },
  {
   "cell_type": "code",
   "execution_count": null,
   "metadata": {},
   "outputs": [],
   "source": []
  },
  {
   "cell_type": "code",
   "execution_count": null,
   "metadata": {
    "collapsed": true
   },
   "outputs": [],
   "source": []
  },
  {
   "cell_type": "code",
   "execution_count": 3,
   "metadata": {
    "collapsed": true
   },
   "outputs": [],
   "source": [
    "def myfunc(x,y):\n",
    "    return [x/y , x+1]"
   ]
  },
  {
   "cell_type": "code",
   "execution_count": 4,
   "metadata": {
    "collapsed": true
   },
   "outputs": [],
   "source": [
    "# you can write it simppler but just to show you how to do it\n",
    "df_1[[\"var1\", \"var2\"]]=df_1[[\"books\",\"Age\"]].apply(lambda x: myfunc(*x), axis=1)"
   ]
  },
  {
   "cell_type": "code",
   "execution_count": 5,
   "metadata": {},
   "outputs": [
    {
     "data": {
      "text/html": [
       "<div>\n",
       "<style scoped>\n",
       "    .dataframe tbody tr th:only-of-type {\n",
       "        vertical-align: middle;\n",
       "    }\n",
       "\n",
       "    .dataframe tbody tr th {\n",
       "        vertical-align: top;\n",
       "    }\n",
       "\n",
       "    .dataframe thead th {\n",
       "        text-align: right;\n",
       "    }\n",
       "</style>\n",
       "<table border=\"1\" class=\"dataframe\">\n",
       "  <thead>\n",
       "    <tr style=\"text-align: right;\">\n",
       "      <th></th>\n",
       "      <th>Age</th>\n",
       "      <th>GPA</th>\n",
       "      <th>books</th>\n",
       "      <th>var1</th>\n",
       "      <th>var2</th>\n",
       "    </tr>\n",
       "  </thead>\n",
       "  <tbody>\n",
       "    <tr>\n",
       "      <th>Ali</th>\n",
       "      <td>33</td>\n",
       "      <td>3.9</td>\n",
       "      <td>120</td>\n",
       "      <td>3.636364</td>\n",
       "      <td>121.0</td>\n",
       "    </tr>\n",
       "    <tr>\n",
       "      <th>Mostafa</th>\n",
       "      <td>32</td>\n",
       "      <td>4.0</td>\n",
       "      <td>100</td>\n",
       "      <td>3.125000</td>\n",
       "      <td>101.0</td>\n",
       "    </tr>\n",
       "    <tr>\n",
       "      <th>Vahid</th>\n",
       "      <td>34</td>\n",
       "      <td>3.8</td>\n",
       "      <td>90</td>\n",
       "      <td>2.647059</td>\n",
       "      <td>91.0</td>\n",
       "    </tr>\n",
       "  </tbody>\n",
       "</table>\n",
       "</div>"
      ],
      "text/plain": [
       "         Age  GPA  books      var1   var2\n",
       "Ali       33  3.9    120  3.636364  121.0\n",
       "Mostafa   32  4.0    100  3.125000  101.0\n",
       "Vahid     34  3.8     90  2.647059   91.0"
      ]
     },
     "execution_count": 5,
     "metadata": {},
     "output_type": "execute_result"
    }
   ],
   "source": [
    "df_1"
   ]
  },
  {
   "cell_type": "code",
   "execution_count": null,
   "metadata": {
    "collapsed": true
   },
   "outputs": [],
   "source": []
  }
 ],
 "metadata": {
  "kernelspec": {
   "display_name": "Python 3",
   "language": "python",
   "name": "python3"
  },
  "language_info": {
   "codemirror_mode": {
    "name": "ipython",
    "version": 3
   },
   "file_extension": ".py",
   "mimetype": "text/x-python",
   "name": "python",
   "nbconvert_exporter": "python",
   "pygments_lexer": "ipython3",
   "version": "3.6.4"
  }
 },
 "nbformat": 4,
 "nbformat_minor": 2
}
